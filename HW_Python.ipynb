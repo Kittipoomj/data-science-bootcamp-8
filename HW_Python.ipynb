{
  "nbformat": 4,
  "nbformat_minor": 0,
  "metadata": {
    "colab": {
      "provenance": [],
      "authorship_tag": "ABX9TyM3XJNnvQr34t9Y1Rjv5MsG",
      "include_colab_link": true
    },
    "kernelspec": {
      "name": "python3",
      "display_name": "Python 3"
    },
    "language_info": {
      "name": "python"
    }
  },
  "cells": [
    {
      "cell_type": "markdown",
      "metadata": {
        "id": "view-in-github",
        "colab_type": "text"
      },
      "source": [
        "<a href=\"https://colab.research.google.com/github/Kittipoomj/data-science-bootcamp-8/blob/main/HW_Python.ipynb\" target=\"_parent\"><img src=\"https://colab.research.google.com/assets/colab-badge.svg\" alt=\"Open In Colab\"/></a>"
      ]
    },
    {
      "cell_type": "markdown",
      "source": [
        "### HW01 - pao ying chub game\n",
        "### HW02 - class ATM at least 5 methods\n",
        "### HW03 - find public API and use python to get data\n",
        "### HW04 - Create Launched Year column in a dataframe"
      ],
      "metadata": {
        "id": "wwby-MJfIUwT"
      }
    },
    {
      "cell_type": "code",
      "execution_count": null,
      "metadata": {
        "id": "SqN5j9kcH7ws"
      },
      "outputs": [],
      "source": [
        "## HW01 - Pao Ying Chub Game"
      ]
    },
    {
      "cell_type": "code",
      "source": [
        "import random\n",
        "\n",
        "# List of possible moves\n",
        "moves = [\"rock\", \"paper\", \"scissors\"]\n",
        "\n",
        "# Initialize the scores\n",
        "player_score = 0\n",
        "computer_score = 0\n",
        "\n",
        "# Start the game\n",
        "while True:\n",
        "    # Get the player's move\n",
        "    player_move = input(\"Choose rock, paper, or scissors: \")\n",
        "\n",
        "    # Get the computer's move\n",
        "    computer_move = random.choice(moves)\n",
        "\n",
        "    # Compare the moves and determine the winner\n",
        "    if player_move == computer_move:\n",
        "        print(\"It's a tie!\")\n",
        "    elif player_move == \"rock\":\n",
        "        if computer_move == \"scissors\":\n",
        "            print(\"You win!\")\n",
        "        else:\n",
        "            print(\"Computer wins!\")\n",
        "    elif player_move == \"paper\":\n",
        "        if computer_move == \"rock\":\n",
        "            print(\"You win!\")\n",
        "        else:\n",
        "            print(\"Computer wins!\")\n",
        "    elif player_move == \"scissors\":\n",
        "        if computer_move == \"paper\":\n",
        "            print(\"You win!\")\n",
        "        else:\n",
        "            print(\"Computer wins!\")\n",
        "\n",
        "    # Update the scores\n",
        "    if player_move == computer_move:\n",
        "        pass\n",
        "    elif player_move == \"rock\" and computer_move == \"scissors\":\n",
        "        player_score += 1\n",
        "    elif player_move == \"paper\" and computer_move == \"rock\":\n",
        "        player_score += 1\n",
        "    elif player_move == \"scissors\" and computer_move == \"paper\":\n",
        "        player_score += 1\n",
        "    else:\n",
        "        computer_score += 1\n",
        "\n",
        "    # Check if the game is over\n",
        "    if player_score == 3 or computer_score == 3:\n",
        "        break\n",
        "\n",
        "    # Ask the player if they want to play again\n",
        "    play_again = input(\"Do you want to play again (y/n)? \")\n",
        "    if play_again != \"y\":\n",
        "        break\n",
        "\n",
        "# Print the final scores\n",
        "print(\"Final scores:\")\n",
        "print(\"Player:\", player_score)\n",
        "print(\"Computer:\", computer_score)"
      ],
      "metadata": {
        "id": "V77bcpGwIlM7",
        "colab": {
          "base_uri": "https://localhost:8080/"
        },
        "outputId": "b1cb35fe-8d49-4ad2-e64a-5d8d09234b80"
      },
      "execution_count": 2,
      "outputs": [
        {
          "output_type": "stream",
          "name": "stdout",
          "text": [
            "Choose rock, paper, or scissors: rock\n",
            "Computer wins!\n",
            "Do you want to play again (y/n)? y\n",
            "Choose rock, paper, or scissors: rock\n",
            "Computer wins!\n",
            "Do you want to play again (y/n)? y\n",
            "Choose rock, paper, or scissors: rock\n",
            "Computer wins!\n",
            "Final scores:\n",
            "Player: 0\n",
            "Computer: 3\n"
          ]
        }
      ]
    },
    {
      "cell_type": "code",
      "source": [],
      "metadata": {
        "id": "2fYJcNzPpWMX"
      },
      "execution_count": null,
      "outputs": []
    },
    {
      "cell_type": "code",
      "source": [
        "## HW02 - Class ATM [At least 5 method]"
      ],
      "metadata": {
        "id": "KNPobRmNIlYg"
      },
      "execution_count": null,
      "outputs": []
    },
    {
      "cell_type": "code",
      "source": [
        "class ATM:\n",
        "    \"\"\"This class represents an ATM.\"\"\"\n",
        "\n",
        "    def __init__(self, balance):\n",
        "        \"\"\"Initialize the ATM with the given balance.\"\"\"\n",
        "        self.balance = balance\n",
        "\n",
        "    def deposit(self, amount):\n",
        "        \"\"\"Deposit the given amount into the ATM.\"\"\"\n",
        "        self.balance += amount\n",
        "\n",
        "    def withdraw(self, amount):\n",
        "        \"\"\"Withdraw the given amount from the ATM.\"\"\"\n",
        "        if amount > self.balance:\n",
        "            raise ValueError(\"Insufficient funds\")\n",
        "        self.balance -= amount\n",
        "\n",
        "    def transfer(self, to_atm, amount):\n",
        "        \"\"\"Transfer the given amount from this ATM to the other ATM.\"\"\"\n",
        "        if amount > self.balance:\n",
        "            raise ValueError(\"Insufficient funds\")\n",
        "        self.balance -= amount\n",
        "        to_atm.balance += amount\n",
        "\n",
        "    def get_balance(self):\n",
        "        \"\"\"Get the current balance of the ATM.\"\"\"\n",
        "        return self.balance\n",
        "\n",
        "    def change_pin(self, old_pin, new_pin):\n",
        "        \"\"\"Change the ATM's PIN.\"\"\"\n",
        "        if self.check_pin(old_pin):\n",
        "            self.pin = new_pin\n",
        "        else:\n",
        "            raise ValueError(\"Incorrect PIN\")"
      ],
      "metadata": {
        "id": "oc9LSTtMM5Wa"
      },
      "execution_count": null,
      "outputs": []
    },
    {
      "cell_type": "code",
      "source": [],
      "metadata": {
        "id": "XkRDzVWjpFtO"
      },
      "execution_count": null,
      "outputs": []
    },
    {
      "cell_type": "code",
      "source": [
        "## HW03 - Find Public API and use python to get data"
      ],
      "metadata": {
        "id": "dlyCwQmsIvU6"
      },
      "execution_count": null,
      "outputs": []
    },
    {
      "cell_type": "code",
      "source": [
        "import requests\n",
        "import time\n",
        "\n",
        "starships = [ ]\n",
        "\n",
        "for i in range(10) :\n",
        "    url = f\"https://swapi.dev/api/starships/{i+1}\"\n",
        "    resp = requests.get(url)\n",
        "\n",
        "    if resp.status_code == 200:\n",
        "        json_data = resp.json()\n",
        "        starships.append(\n",
        "            (json_data[\"name\"],\n",
        "            json_data[\"model\"])\n",
        "        )\n",
        "\n",
        "    # break a second\n",
        "    time.sleep(1)\n",
        "\n",
        "\n",
        "print(starships)"
      ],
      "metadata": {
        "id": "DTTAAkPII7Fg",
        "colab": {
          "base_uri": "https://localhost:8080/"
        },
        "outputId": "d0cc4011-72e8-466e-8c48-531e29e674c1"
      },
      "execution_count": null,
      "outputs": [
        {
          "output_type": "stream",
          "name": "stdout",
          "text": [
            "[('CR90 corvette', 'CR90 corvette'), ('Star Destroyer', 'Imperial I-class Star Destroyer'), ('Sentinel-class landing craft', 'Sentinel-class landing craft'), ('Death Star', 'DS-1 Orbital Battle Station'), ('Millennium Falcon', 'YT-1300 light freighter')]\n"
          ]
        }
      ]
    },
    {
      "cell_type": "code",
      "source": [],
      "metadata": {
        "id": "Irtdnn8DT-bC"
      },
      "execution_count": null,
      "outputs": []
    },
    {
      "cell_type": "code",
      "source": [
        "## HW04 - Create Launched Year column in a dataframe [Database IMDB]"
      ],
      "metadata": {
        "id": "BeICnXWDI7My"
      },
      "execution_count": null,
      "outputs": []
    },
    {
      "cell_type": "code",
      "source": [
        "# install package\n",
        "!pip install gazpacho"
      ],
      "metadata": {
        "id": "cT1NbtW1J3tq",
        "colab": {
          "base_uri": "https://localhost:8080/"
        },
        "outputId": "fa36394f-d851-4c50-a715-e0e7b21d2242"
      },
      "execution_count": null,
      "outputs": [
        {
          "output_type": "stream",
          "name": "stdout",
          "text": [
            "Requirement already satisfied: gazpacho in /usr/local/lib/python3.10/dist-packages (1.1)\n"
          ]
        }
      ]
    },
    {
      "cell_type": "code",
      "source": [
        "# import function\n",
        "from gazpacho import Soup\n",
        "import requests"
      ],
      "metadata": {
        "id": "luAX1u-MKsAH"
      },
      "execution_count": null,
      "outputs": []
    },
    {
      "cell_type": "code",
      "source": [
        "# web scraping\n",
        "url = \"https://www.imdb.com/search/title/?groups=top_100&sort=user_rating,desc\"\n",
        "headers = { \"Accept-Language\": \"en-US\"}\n",
        "html = requests.get(url, headers=headers)\n",
        "imdb = Soup(html.text)"
      ],
      "metadata": {
        "id": "xkLJZDoTKXpt"
      },
      "execution_count": null,
      "outputs": []
    },
    {
      "cell_type": "code",
      "source": [
        "## list comprehension\n",
        "titles = imdb.find(\"h3\", {\"class\" : \"lister-item-header\"})\n",
        "clean_titles = [title.strip() for title in titles]\n",
        "\n",
        "clean_titles"
      ],
      "metadata": {
        "id": "1BlgYJE7JXGc"
      },
      "execution_count": null,
      "outputs": []
    },
    {
      "cell_type": "code",
      "source": [
        "## get year\n",
        "##\n",
        "years =imdb.find(\"span\", {\"class\" : \"lister-item-year\"})\n",
        "clean_years = [year.strip() for year in years]\n",
        "\n",
        "clean_years"
      ],
      "metadata": {
        "id": "uYolnFB2S7j7"
      },
      "execution_count": null,
      "outputs": []
    },
    {
      "cell_type": "code",
      "source": [
        "## get rating from the website\n",
        "## div: ratings-imdb-rating\n",
        "\n",
        "ratings = imdb.find(\"div\", {\"class\": \"ratings-imdb-rating\"})\n",
        "clean_ratings = [ float(rating.strip( )) for rating in ratings]\n",
        "\n",
        "clean_ratings"
      ],
      "metadata": {
        "id": "zO-FBGycJcOb"
      },
      "execution_count": null,
      "outputs": []
    },
    {
      "cell_type": "code",
      "source": [
        "import pandas as pd\n",
        "\n",
        "# create dataframe\n",
        "movie_database = pd.DataFrame(data = {\n",
        "    \"title\" : clean_titles ,\n",
        "    \"rating\" : clean_ratings,\n",
        "    \"year\" : clean_years\n",
        "})\n",
        "\n",
        "# print first five rows\n",
        "movie_database.head()"
      ],
      "metadata": {
        "id": "9HKOSla2JCph",
        "colab": {
          "base_uri": "https://localhost:8080/",
          "height": 206
        },
        "outputId": "c151ea71-fa03-4d1e-c131-0be1c0ce0c2e"
      },
      "execution_count": null,
      "outputs": [
        {
          "output_type": "execute_result",
          "data": {
            "text/plain": [
              "                                title  rating    year\n",
              "0  1. The Shawshank Redemption (1994)     9.3  (1994)\n",
              "1             2. The Godfather (1972)     9.2  (1972)\n",
              "2           3. The Dark Knight (2008)     9.0  (2008)\n",
              "3          4. Schindler's List (1993)     9.0  (1993)\n",
              "4     5. The Godfather Part II (1974)     9.0  (1974)"
            ],
            "text/html": [
              "\n",
              "  <div id=\"df-aa4c9a1b-5721-4195-af7e-2d14b9fa608c\" class=\"colab-df-container\">\n",
              "    <div>\n",
              "<style scoped>\n",
              "    .dataframe tbody tr th:only-of-type {\n",
              "        vertical-align: middle;\n",
              "    }\n",
              "\n",
              "    .dataframe tbody tr th {\n",
              "        vertical-align: top;\n",
              "    }\n",
              "\n",
              "    .dataframe thead th {\n",
              "        text-align: right;\n",
              "    }\n",
              "</style>\n",
              "<table border=\"1\" class=\"dataframe\">\n",
              "  <thead>\n",
              "    <tr style=\"text-align: right;\">\n",
              "      <th></th>\n",
              "      <th>title</th>\n",
              "      <th>rating</th>\n",
              "      <th>year</th>\n",
              "    </tr>\n",
              "  </thead>\n",
              "  <tbody>\n",
              "    <tr>\n",
              "      <th>0</th>\n",
              "      <td>1. The Shawshank Redemption (1994)</td>\n",
              "      <td>9.3</td>\n",
              "      <td>(1994)</td>\n",
              "    </tr>\n",
              "    <tr>\n",
              "      <th>1</th>\n",
              "      <td>2. The Godfather (1972)</td>\n",
              "      <td>9.2</td>\n",
              "      <td>(1972)</td>\n",
              "    </tr>\n",
              "    <tr>\n",
              "      <th>2</th>\n",
              "      <td>3. The Dark Knight (2008)</td>\n",
              "      <td>9.0</td>\n",
              "      <td>(2008)</td>\n",
              "    </tr>\n",
              "    <tr>\n",
              "      <th>3</th>\n",
              "      <td>4. Schindler's List (1993)</td>\n",
              "      <td>9.0</td>\n",
              "      <td>(1993)</td>\n",
              "    </tr>\n",
              "    <tr>\n",
              "      <th>4</th>\n",
              "      <td>5. The Godfather Part II (1974)</td>\n",
              "      <td>9.0</td>\n",
              "      <td>(1974)</td>\n",
              "    </tr>\n",
              "  </tbody>\n",
              "</table>\n",
              "</div>\n",
              "    <div class=\"colab-df-buttons\">\n",
              "\n",
              "  <div class=\"colab-df-container\">\n",
              "    <button class=\"colab-df-convert\" onclick=\"convertToInteractive('df-aa4c9a1b-5721-4195-af7e-2d14b9fa608c')\"\n",
              "            title=\"Convert this dataframe to an interactive table.\"\n",
              "            style=\"display:none;\">\n",
              "\n",
              "  <svg xmlns=\"http://www.w3.org/2000/svg\" height=\"24px\" viewBox=\"0 -960 960 960\">\n",
              "    <path d=\"M120-120v-720h720v720H120Zm60-500h600v-160H180v160Zm220 220h160v-160H400v160Zm0 220h160v-160H400v160ZM180-400h160v-160H180v160Zm440 0h160v-160H620v160ZM180-180h160v-160H180v160Zm440 0h160v-160H620v160Z\"/>\n",
              "  </svg>\n",
              "    </button>\n",
              "\n",
              "  <style>\n",
              "    .colab-df-container {\n",
              "      display:flex;\n",
              "      gap: 12px;\n",
              "    }\n",
              "\n",
              "    .colab-df-convert {\n",
              "      background-color: #E8F0FE;\n",
              "      border: none;\n",
              "      border-radius: 50%;\n",
              "      cursor: pointer;\n",
              "      display: none;\n",
              "      fill: #1967D2;\n",
              "      height: 32px;\n",
              "      padding: 0 0 0 0;\n",
              "      width: 32px;\n",
              "    }\n",
              "\n",
              "    .colab-df-convert:hover {\n",
              "      background-color: #E2EBFA;\n",
              "      box-shadow: 0px 1px 2px rgba(60, 64, 67, 0.3), 0px 1px 3px 1px rgba(60, 64, 67, 0.15);\n",
              "      fill: #174EA6;\n",
              "    }\n",
              "\n",
              "    .colab-df-buttons div {\n",
              "      margin-bottom: 4px;\n",
              "    }\n",
              "\n",
              "    [theme=dark] .colab-df-convert {\n",
              "      background-color: #3B4455;\n",
              "      fill: #D2E3FC;\n",
              "    }\n",
              "\n",
              "    [theme=dark] .colab-df-convert:hover {\n",
              "      background-color: #434B5C;\n",
              "      box-shadow: 0px 1px 3px 1px rgba(0, 0, 0, 0.15);\n",
              "      filter: drop-shadow(0px 1px 2px rgba(0, 0, 0, 0.3));\n",
              "      fill: #FFFFFF;\n",
              "    }\n",
              "  </style>\n",
              "\n",
              "    <script>\n",
              "      const buttonEl =\n",
              "        document.querySelector('#df-aa4c9a1b-5721-4195-af7e-2d14b9fa608c button.colab-df-convert');\n",
              "      buttonEl.style.display =\n",
              "        google.colab.kernel.accessAllowed ? 'block' : 'none';\n",
              "\n",
              "      async function convertToInteractive(key) {\n",
              "        const element = document.querySelector('#df-aa4c9a1b-5721-4195-af7e-2d14b9fa608c');\n",
              "        const dataTable =\n",
              "          await google.colab.kernel.invokeFunction('convertToInteractive',\n",
              "                                                    [key], {});\n",
              "        if (!dataTable) return;\n",
              "\n",
              "        const docLinkHtml = 'Like what you see? Visit the ' +\n",
              "          '<a target=\"_blank\" href=https://colab.research.google.com/notebooks/data_table.ipynb>data table notebook</a>'\n",
              "          + ' to learn more about interactive tables.';\n",
              "        element.innerHTML = '';\n",
              "        dataTable['output_type'] = 'display_data';\n",
              "        await google.colab.output.renderOutput(dataTable, element);\n",
              "        const docLink = document.createElement('div');\n",
              "        docLink.innerHTML = docLinkHtml;\n",
              "        element.appendChild(docLink);\n",
              "      }\n",
              "    </script>\n",
              "  </div>\n",
              "\n",
              "\n",
              "<div id=\"df-dcba2e88-a37a-457a-90e4-e51d85c490b9\">\n",
              "  <button class=\"colab-df-quickchart\" onclick=\"quickchart('df-dcba2e88-a37a-457a-90e4-e51d85c490b9')\"\n",
              "            title=\"Suggest charts.\"\n",
              "            style=\"display:none;\">\n",
              "\n",
              "<svg xmlns=\"http://www.w3.org/2000/svg\" height=\"24px\"viewBox=\"0 0 24 24\"\n",
              "     width=\"24px\">\n",
              "    <g>\n",
              "        <path d=\"M19 3H5c-1.1 0-2 .9-2 2v14c0 1.1.9 2 2 2h14c1.1 0 2-.9 2-2V5c0-1.1-.9-2-2-2zM9 17H7v-7h2v7zm4 0h-2V7h2v10zm4 0h-2v-4h2v4z\"/>\n",
              "    </g>\n",
              "</svg>\n",
              "  </button>\n",
              "\n",
              "<style>\n",
              "  .colab-df-quickchart {\n",
              "    background-color: #E8F0FE;\n",
              "    border: none;\n",
              "    border-radius: 50%;\n",
              "    cursor: pointer;\n",
              "    display: none;\n",
              "    fill: #1967D2;\n",
              "    height: 32px;\n",
              "    padding: 0 0 0 0;\n",
              "    width: 32px;\n",
              "  }\n",
              "\n",
              "  .colab-df-quickchart:hover {\n",
              "    background-color: #E2EBFA;\n",
              "    box-shadow: 0px 1px 2px rgba(60, 64, 67, 0.3), 0px 1px 3px 1px rgba(60, 64, 67, 0.15);\n",
              "    fill: #174EA6;\n",
              "  }\n",
              "\n",
              "  [theme=dark] .colab-df-quickchart {\n",
              "    background-color: #3B4455;\n",
              "    fill: #D2E3FC;\n",
              "  }\n",
              "\n",
              "  [theme=dark] .colab-df-quickchart:hover {\n",
              "    background-color: #434B5C;\n",
              "    box-shadow: 0px 1px 3px 1px rgba(0, 0, 0, 0.15);\n",
              "    filter: drop-shadow(0px 1px 2px rgba(0, 0, 0, 0.3));\n",
              "    fill: #FFFFFF;\n",
              "  }\n",
              "</style>\n",
              "\n",
              "  <script>\n",
              "    async function quickchart(key) {\n",
              "      const charts = await google.colab.kernel.invokeFunction(\n",
              "          'suggestCharts', [key], {});\n",
              "    }\n",
              "    (() => {\n",
              "      let quickchartButtonEl =\n",
              "        document.querySelector('#df-dcba2e88-a37a-457a-90e4-e51d85c490b9 button');\n",
              "      quickchartButtonEl.style.display =\n",
              "        google.colab.kernel.accessAllowed ? 'block' : 'none';\n",
              "    })();\n",
              "  </script>\n",
              "</div>\n",
              "    </div>\n",
              "  </div>\n"
            ]
          },
          "metadata": {},
          "execution_count": 34
        }
      ]
    },
    {
      "cell_type": "code",
      "source": [],
      "metadata": {
        "id": "kpfHqCMSSQt3"
      },
      "execution_count": null,
      "outputs": []
    }
  ]
}